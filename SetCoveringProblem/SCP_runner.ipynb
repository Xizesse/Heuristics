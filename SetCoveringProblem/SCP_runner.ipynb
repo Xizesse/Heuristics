{
 "cells": [
  {
   "cell_type": "code",
   "execution_count": 99,
   "id": "e4c99e23",
   "metadata": {},
   "outputs": [
    {
     "name": "stdout",
     "output_type": "stream",
     "text": [
      "The autoreload extension is already loaded. To reload it, use:\n",
      "  %reload_ext autoreload\n"
     ]
    }
   ],
   "source": [
    "%load_ext autoreload\n",
    "%autoreload 2\n",
    "\n",
    "from SCPDefinitions import *\n",
    "from SCPConstructive import *\n",
    "from SCPLocalSearch import *\n",
    "from SCP_solve_all import *\n",
    "from SCP_GRASP import *\n",
    "from SCP_TABU import *"
   ]
  },
  {
   "cell_type": "markdown",
   "id": "b28700f7",
   "metadata": {},
   "source": [
    "# Instance Representation — `SCPInstance`\n",
    "\n",
    "Given an SCP instance:\n",
    "\n",
    "- $m$: number of attributes (elements to cover)  \n",
    "- $n$: number of sets (airplanes)  \n",
    "- $\\mathbf{c} = [c_1, c_2, \\dots, c_n]$: cost of each airplane  \n",
    "- Coverage is stored implicitly using sparse mappings:\n",
    "\n",
    "  - `attr_of_set[j]` → attributes covered by set \\( j \\)  \n",
    "    (corresponds to column \\( j \\) of \\( A \\))  \n",
    "\n",
    "  - `sets_of_attr[i]` → sets that cover attribute \\( i \\)  \n",
    "    (corresponds to row \\( i \\) of \\( A \\))\n",
    "\n",
    "Thus,\n",
    "\n",
    "$$\n",
    "a_{ij} = 1 \\iff i \\in \\text{attr\\_of\\_set}[j] \\iff j \\in \\text{sets\\_of\\_attr}[i].\n",
    "$$\n",
    "\n",
    "The instance defines the data for the optimization model but does not explicitly store matrix \\(A\\).\n"
   ]
  },
  {
   "cell_type": "code",
   "execution_count": null,
   "id": "c88e8260",
   "metadata": {},
   "outputs": [],
   "source": [
    "inst = SCPInstance(3)\n",
    "inst.summary()"
   ]
  },
  {
   "cell_type": "markdown",
   "id": "0002b331",
   "metadata": {},
   "source": [
    "# Solution representation\n",
    "\n",
    "A solution is represented by a binary vector of size n, where each position i indicates whether subset i is included in the cover (1) or not (0)."
   ]
  },
  {
   "cell_type": "markdown",
   "id": "6728e547",
   "metadata": {},
   "source": [
    "Given an SCP instance defined by:\n",
    "\n",
    "- $m$: number of attributes (elements to cover)  \n",
    "- $n$: number of sets (airplanes)  \n",
    "- $\\mathbf{c} = [c_1, c_2, \\dots, c_n]$: cost vector  \n",
    "- $A \\in \\{0,1\\}^{m \\times n}$: coverage matrix with entries  \n",
    "  $$\n",
    "  a_{ij} =\n",
    "  \\begin{cases}\n",
    "  1, & \\text{if attribute } i \\text{ is covered by set } j, \\\\\n",
    "  0, & \\text{otherwise.}\n",
    "  \\end{cases}\n",
    "  $$\n",
    "\n",
    "---\n",
    "\n",
    "### **Decision Variables**\n",
    "\n",
    "Each airplane (set) $j$ has a binary decision variable:\n",
    "$$\n",
    "x_j =\n",
    "\\begin{cases}\n",
    "1, & \\text{if airplane } j \\text{ is selected,} \\\\\n",
    "0, & \\text{otherwise.}\n",
    "\\end{cases}\n",
    "$$\n",
    "\n",
    "In code:\n",
    "- `self.selected`  →  $\\{\\,j : x_j = 1\\,\\}$  \n",
    "- `self.covered[i]`  →  $\\displaystyle \\sum_{j=1}^{n} a_{ij} x_j$  \n",
    "- `self.cost`  →  $\\displaystyle \\sum_{j=1}^{n} c_j x_j$\n",
    "\n",
    "---\n",
    "\n",
    "### **Objective Function**\n",
    "\n",
    "Minimize the total cost of selected airplanes:\n",
    "$$\n",
    "\\min_{x \\in \\{0,1\\}^n} Z = \\sum_{j=1}^{n} c_j x_j\n",
    "$$\n",
    "\n",
    "---\n",
    "\n",
    "### **Feasibility Constraints**\n",
    "\n",
    "Each attribute must be covered by at least one selected set:\n",
    "$$\n",
    "\\sum_{j=1}^{n} a_{ij} x_j \\ge 1, \\quad \\forall\\, i = 1,\\dots,m.\n",
    "$$\n",
    "\n",
    "In code:  \n",
    "`is_feasible()` → checks `np.all(self.covered > 0)`\n",
    "\n",
    "---\n",
    "\n",
    "\n"
   ]
  },
  {
   "cell_type": "code",
   "execution_count": null,
   "id": "f7a6d361",
   "metadata": {},
   "outputs": [],
   "source": [
    "inst = SCPInstance(3)\n",
    "sol = SCPSolution(inst)\n",
    "\n",
    "sol.add(5)\n",
    "sol.add(10)\n",
    "sol.add(200)\n",
    "sol.remove(10)\n",
    "\n",
    "sol.summary()\n",
    "sol.prune_by_cost()\n",
    "sol.summary()\n"
   ]
  },
  {
   "cell_type": "code",
   "execution_count": null,
   "id": "46dd2476",
   "metadata": {},
   "outputs": [],
   "source": [
    "#Load from csv\n",
    "inst = SCPInstance(0, folder=\"SCP-Instances\")\n",
    "sol = SCPSolution.from_csv(inst, \"results/greedy_RE.csv\")\n",
    "\n",
    "sol.summary()\n"
   ]
  },
  {
   "cell_type": "markdown",
   "id": "da2abaed",
   "metadata": {},
   "source": [
    "# CONSTRUCTION HEURISTIC"
   ]
  },
  {
   "cell_type": "code",
   "execution_count": null,
   "id": "49e72e57",
   "metadata": {},
   "outputs": [],
   "source": [
    "from SCPConstructive import *"
   ]
  },
  {
   "cell_type": "markdown",
   "id": "781f565f",
   "metadata": {},
   "source": [
    "### ✈️ CH0: Greedy First Fit Heuristic\n",
    "\n",
    "<span style=\"color:red\">Not being used</span>\n",
    "\n",
    "A simple **constructive heuristic** that builds a feasible solution step by step.\n",
    "\n",
    "**Idea:**  \n",
    "Start with no airplanes selected. Repeatedly pick the first uncovered attribute \\( i \\),  \n",
    "choose the first set \\( j \\) that covers it, set \\( x_j \\leftarrow 1 \\),  \n",
    "update coverage, and stop when all attributes are covered.\n",
    "\n",
    "Formally, at each iteration:\n",
    "\n",
    "$$\n",
    "j^{*} = \\min \\{\\, j : a_{ij} = 1 \\,\\}, \\qquad\n",
    "i = \\text{first uncovered attribute}.\n",
    "$$\n",
    "\n",
    "Then set \\( x_{j^{*}} = 1 \\).\n",
    "\n",
    "**Characteristics:**  \n",
    "- Deterministic  \n",
    "- Greedy and myopic (covers one attribute at a time)  \n",
    "- Produces a feasible solution, not necessarily optimal  \n",
    "- A pruning step can later remove redundant sets\n"
   ]
  },
  {
   "cell_type": "code",
   "execution_count": null,
   "id": "bd421a38",
   "metadata": {},
   "outputs": [],
   "source": [
    "inst = SCPInstance(0)  # load first file in folder\n",
    "sol = greedy_first_fit(inst)\n",
    "sol.summary()\n",
    "sol.prune_by_cost()\n",
    "sol.summary()\n"
   ]
  },
  {
   "cell_type": "markdown",
   "id": "df8ed5be",
   "metadata": {},
   "source": [
    "### 💰 Ch1 : Greedy Cost-Efficient Heuristic\n",
    "\n",
    "A **cost-aware constructive heuristic** that builds a feasible solution by balancing coverage and cost.\n",
    "\n",
    "**Idea:**  \n",
    "At each step, select the airplane \\( j \\) that minimizes the ratio between its cost and  \n",
    "the number of *new* uncovered attributes it would cover.\n",
    "\n",
    "Formally:\n",
    "\n",
    "$$\n",
    "h(j) = \\frac{c_j}{|\\{\\, i : a_{ij} = 1 \\text{ and } \\text{covered}[i] = 0 \\,\\}|}\n",
    "$$\n",
    "\n",
    "At each iteration:\n",
    "\n",
    "$$\n",
    "j^{*} = \\arg\\min_{j \\notin \\text{selected}} h(j)\n",
    "\\quad \\Longrightarrow \\quad x_{j^{*}} = 1.\n",
    "$$\n",
    "\n",
    "Repeat until all attributes are covered.\n",
    "\n",
    "**Characteristics:**  \n",
    "- Deterministic  \n",
    "- Balances cost vs. coverage gain  \n",
    "- More informed than pure greedy-first-fit  \n",
    "- Still locally myopic — does not look ahead\n"
   ]
  },
  {
   "cell_type": "code",
   "execution_count": null,
   "id": "73847731",
   "metadata": {},
   "outputs": [],
   "source": [
    "inst = SCPInstance(0)\n",
    "sol = greedy_cost_efficiency(inst)\n",
    "sol.summary()\n",
    "sol.prune_by_cost()\n",
    "sol.summary()\n"
   ]
  },
  {
   "cell_type": "markdown",
   "id": "1ae754c8",
   "metadata": {},
   "source": [
    "### 💰 CH2: Greedy Cost Squared over Cover Heuristic\n",
    "\n",
    "A **cost-sensitive constructive heuristic** that increases the penalty on expensive sets while still favoring wide coverage.\n",
    "\n",
    "**Idea:**  \n",
    "At each step, select the airplane \\( j \\) that minimizes the ratio between the **square of its cost** and  \n",
    "the number of *new* uncovered attributes it would cover.\n",
    "\n",
    "Formally:\n",
    "\n",
    "$$\n",
    "h(j) = \\frac{c_j^2}{|\\{\\, i : a_{ij} = 1 \\text{ and } \\text{covered}[i] = 0 \\,\\}|}\n",
    "$$\n",
    "\n",
    "At each iteration:\n",
    "\n",
    "$$\n",
    "j^{*} = \\arg\\min_{j \\notin \\text{selected}} h(j)\n",
    "\\quad \\Longrightarrow \\quad x_{j^{*}} = 1.\n",
    "$$\n",
    "\n",
    "Repeat until all attributes are covered.\n",
    "\n",
    "**Characteristics:**  \n",
    "- Deterministic  \n",
    "- Applies a quadratic cost penalty (discourages expensive sets)  \n",
    "- Favors multiple cheap sets over single costly ones  \n",
    "- More conservative than the standard cost-efficiency heuristic  \n",
    "- Still locally greedy — no lookahead or randomness\n"
   ]
  },
  {
   "cell_type": "code",
   "execution_count": null,
   "id": "b6ed429b",
   "metadata": {},
   "outputs": [],
   "source": [
    "inst = SCPInstance(0)\n",
    "sol = greedy_cost_square_over_cover(inst)\n",
    "sol.summary()\n",
    "sol.prune_by_cost()\n",
    "sol.summary()\n"
   ]
  },
  {
   "cell_type": "markdown",
   "id": "3aca1e59",
   "metadata": {},
   "source": [
    "### 🎲 CH3: Greedy Randomized Adaptive Heuristic (GRASP Constructive Phase)\n",
    "\n",
    "A **stochastic extension** of the greedy cost-efficient heuristic.\n",
    "\n",
    "At each step:\n",
    "- Compute the efficiency of each set  \n",
    "  \\( h(j) = \\dfrac{c_j}{|\\{\\, i : a_{ij} = 1 \\text{ and } \\text{covered}[i] = 0 \\,\\}|} \\)\n",
    "- Sort sets by efficiency (lower is better)\n",
    "- Build a **Restricted Candidate List (RCL)** containing the best candidates:\n",
    "  $$\n",
    "  \\text{RCL} = \\{\\, j : h(j) \\le h_{\\min} + \\alpha (h_{\\max} - h_{\\min}) \\,\\}\n",
    "  $$\n",
    "- Randomly pick one set \\( j^* \\in \\text{RCL} \\)\n",
    "- Add that set to the solution: \\( x_{j^*} \\leftarrow 1 \\)\n",
    "- Update covered attributes\n",
    "\n",
    "Repeat until all attributes are covered.\n",
    "\n",
    "**Parameter:**\n",
    "- \\( \\alpha \\in [0,1] \\): controls greediness  \n",
    "  - \\( \\alpha = 0 \\): purely greedy  \n",
    "  - \\( \\alpha = 1 \\): purely random  \n",
    "\n",
    "**Characteristics:**  \n",
    "- Randomized but adaptive to current coverage  \n",
    "- Balances exploration (randomness) and exploitation (greedy choice)  \n",
    "- Provides diverse starting solutions for local search\n"
   ]
  },
  {
   "cell_type": "code",
   "execution_count": null,
   "id": "e9fe47f6",
   "metadata": {},
   "outputs": [],
   "source": [
    "inst = SCPInstance(0)\n",
    "sol = greedy_randomized_adaptive(inst, alpha=0.1)\n",
    "sol.summary()\n",
    "sol.prune_by_cost()\n",
    "sol.summary()\n"
   ]
  },
  {
   "cell_type": "markdown",
   "id": "fc09f41f",
   "metadata": {},
   "source": [
    "# Look ahead heuristics\n",
    "<span style=\"color:red\">Not being used</span>\n",
    "\n",
    "Non-myopic heuristics that consider future consequences of current choices.\n",
    "\n",
    "\\textcolor{orange}{To Be improved}"
   ]
  },
  {
   "cell_type": "code",
   "execution_count": null,
   "id": "46ef9484",
   "metadata": {},
   "outputs": [],
   "source": [
    "df_greedy = solve_all_instances(\"greedy_cost_efficiency\", \"greedy.csv\")\n",
    "df_greedy_RE = solve_all_instances(\"greedy_RE\", \"greedy_RE.csv\") "
   ]
  },
  {
   "cell_type": "code",
   "execution_count": null,
   "id": "1735f606",
   "metadata": {},
   "outputs": [],
   "source": [
    "df_squared = solve_all_instances(\"greedy_cost_square_over_cover\", \"greedy_squared_results.csv\")\n",
    "df_squared_RE = solve_all_instances(\"squared_RE\", \"squared_RE_results.csv\")"
   ]
  },
  {
   "cell_type": "code",
   "execution_count": null,
   "id": "fb8c15bb",
   "metadata": {},
   "outputs": [],
   "source": [
    "df_random = solve_all_instances(\"greedy_randomized_adaptive\", \"random.csv\", alpha=0.0)\n",
    "df_random_RE = solve_all_instances(\"randomized_RE\", \"random_RE.csv\", alpha=0.0)"
   ]
  },
  {
   "cell_type": "markdown",
   "id": "50d2c6a4",
   "metadata": {},
   "source": [
    "# Local Search "
   ]
  },
  {
   "cell_type": "markdown",
   "id": "14af9958",
   "metadata": {},
   "source": [
    "Tasks:\n",
    "\n",
    "Consider one neighbourhood\n",
    "\n",
    "Implement first-improvement (FI) and best-improvement (BI) algorithms for the SCP. \n",
    " \n",
    "In these two algorithms, consider one neighborhoods of your choice. Apply redundancy elimination after each step.\n",
    "\n",
    "Apply each of these algorithms once to an initial solution generated by CH1, CH2, CH3, and CH1+RE.  H\n",
    "\n",
    "ence, in total eight algorithms should be tested obtained by the combinations of the four constructive heuristics with the two iterative improvement algorithms. \n",
    "\n",
    "As variance reduction technique for the experiments make sure that the FI and BI algorithms start from the same initial solution. This can be ensured by using for each of the executions on a same instance the same random number seed. \n",
    "\n",
    "As the experimental results report for each of the experiments\n",
    "the average percentage deviation from best known solutions;\n",
    "the total computation time across all instances;\n",
    "the fraction of instances that profit from the additional local search phase.\n",
    "\n",
    "Determine by means of statistical tests (in this case, the Student t-test or the Wilcoxon test), whether there is a statistically significant difference between the solutions generated by the various algorithms. Consider the data for the Set Covering Problem (SCP) available in Moodle.\n"
   ]
  },
  {
   "cell_type": "markdown",
   "id": "b4a62437",
   "metadata": {},
   "source": [
    "# Best Improvement Local Search 1x1"
   ]
  },
  {
   "cell_type": "markdown",
   "id": "0174173b",
   "metadata": {},
   "source": [
    "# First Improvement Local Search 1x1"
   ]
  },
  {
   "cell_type": "code",
   "execution_count": null,
   "id": "4d372e9c",
   "metadata": {},
   "outputs": [],
   "source": [
    "#example\n",
    "inst = SCPInstance(0)\n",
    "#sol.summary()\n",
    "\n",
    "print(\"Squared + RE\")\n",
    "sol_squared_RE = greedy_cost_square_over_cover(inst)\n",
    "sol_squared_RE = sol.copy()\n",
    "sol_squared_RE.prune_by_cost()\n",
    "sol_squared_RE.summary()\n",
    "\n",
    "print(\"Squared + FI + RE\")\n",
    "sol_squared_FI1x1 = greedy_cost_square_over_cover(inst)\n",
    "sol_squared_FI1x1 = best_improvement_1x1_loop(sol, max_time=99999)\n",
    "sol_squared_FI1x1.prune_by_cost()\n",
    "sol_squared_FI1x1.summary()\n",
    "\n",
    "print(\"Squared + BI + RE\")\n",
    "sol_squared_BI1x1 = greedy_cost_square_over_cover(inst)\n",
    "sol_squared_BI1x1 = best_improvement_1x1_loop(sol, max_time=99999)\n",
    "sol_squared_BI1x1.prune_by_cost()\n",
    "sol_squared_BI1x1.summary()\n",
    "\n"
   ]
  },
  {
   "cell_type": "markdown",
   "id": "b74e71dd",
   "metadata": {},
   "source": [
    "# Running all instances for 1x1 Search"
   ]
  },
  {
   "cell_type": "code",
   "execution_count": null,
   "id": "eb5da7f6",
   "metadata": {},
   "outputs": [],
   "source": [
    "df_greedy_RE = solve_all_instances(\"greedy_RE\", \"greedy_RE.csv\")\n",
    "df_greedy_FI_RE = solve_all_instances(\"greedy_plus_FI1x1\", \"greedy_FI1x1.csv\", fi_time=9999.0)\n",
    "df_greedy_BI_RE = solve_all_instances(\"greedy_plus_BI1x1\", \"greedy_BI1x1.csv\", ls_time=9999.0)\n",
    "\n"
   ]
  },
  {
   "cell_type": "code",
   "execution_count": null,
   "id": "9484d007",
   "metadata": {},
   "outputs": [],
   "source": [
    "df_squared_RE = solve_all_instances(\"squared_plus_RE\", \"squared_RE.csv\")\n",
    "df_greedy_FI_RE = solve_all_instances(\"squared_plus_FI1x1\", \"squared_FI1x1.csv\", fi_time=9999.0)\n",
    "df_greedy_BI_RE = solve_all_instances(\"squared_plus_BI1x1\", \"squared_BI1x1.csv\", ls_time=9999.0)\n",
    "\n"
   ]
  },
  {
   "cell_type": "markdown",
   "id": "9d2bfd0d",
   "metadata": {},
   "source": [
    "# Best Improvement Local Search Drop or Swap"
   ]
  },
  {
   "cell_type": "markdown",
   "id": "21e81b63",
   "metadata": {},
   "source": [
    "# First Improvement Local Search Drop or Swap"
   ]
  },
  {
   "cell_type": "code",
   "execution_count": null,
   "id": "8c368825",
   "metadata": {},
   "outputs": [],
   "source": [
    "#example\n",
    "inst = SCPInstance(0)\n",
    "#sol.summary()\n",
    "\n",
    "print(\"Squared + RE\")\n",
    "sol = greedy_cost_square_over_cover(inst)\n",
    "sol_squared_RE = sol.copy()\n",
    "sol_squared_RE.prune_by_cost()\n",
    "sol_squared_RE.summary()\n",
    "\n",
    "print(\"Squared + FI + RE\")\n",
    "sol_squared_FI1x1 = greedy_cost_square_over_cover(inst)\n",
    "sol_squared_FI1x1 = first_improvement_drop_or_swap_loop(sol, max_time=99999)\n",
    "sol_squared_FI1x1.prune_by_cost()\n",
    "sol_squared_FI1x1.summary()\n",
    "\n",
    "print(\"Squared + BI + RE\")\n",
    "sol_squared_BI1x1 = greedy_cost_square_over_cover(inst)\n",
    "sol_squared_BI1x1 = best_improvement_drop_or_swap_loop(sol, max_time=99999)\n",
    "sol_squared_BI1x1.prune_by_cost()\n",
    "sol_squared_BI1x1.summary()\n",
    "\n"
   ]
  },
  {
   "cell_type": "markdown",
   "id": "8fd83f61",
   "metadata": {},
   "source": [
    "# Running All Instances for Drop or Swap"
   ]
  },
  {
   "cell_type": "code",
   "execution_count": null,
   "id": "297d9ebb",
   "metadata": {},
   "outputs": [],
   "source": [
    "df_greedy_RE = solve_all_instances(\"greedy_plus_RE\", \"greedy_RE.csv\")\n",
    "df_greedy_FI_RE = solve_all_instances(\"greedy_plus_FI_drop_or_swap\", \"greedy_FI_drop_or_swap.csv\", fi_time=9999.0)\n",
    "df_greedy_BI_RE = solve_all_instances(\"greedy_plus_BI_drop_or_swap\", \"greedy_BI_drop_or_swap.csv\", ls_time=9999.0)\n",
    "\n"
   ]
  },
  {
   "cell_type": "code",
   "execution_count": null,
   "id": "d4431751",
   "metadata": {},
   "outputs": [],
   "source": [
    "df_squared_RE = solve_all_instances(\"squared_plus_RE\", \"squared_RE.csv\")\n",
    "df_squared_FI_RE = solve_all_instances(\"squared_plus_FI_drop_or_swap\", \"squared_FI_drop_or_swap.csv\", fi_time=9999.0)\n",
    "df_squared_BI_RE = solve_all_instances(\"squared_plus_BI_drop_or_swap\", \"squared_BI_drop_or_swap.csv\", ls_time=9999.0)"
   ]
  },
  {
   "cell_type": "code",
   "execution_count": null,
   "id": "a59f8b37",
   "metadata": {},
   "outputs": [],
   "source": [
    "#randomized\n",
    "df_randomized_RE = solve_all_instances(\"randomized_plus_RE\", \"randomized_RE.csv\")\n",
    "df_randomized_FI_RE = solve_all_instances(\"randomized_plus_FI_drop_or_swap\", \"randomized_FI_drop_or_swap.csv\", alpha = 0.0, fi_time=9999.0)\n",
    "df_randomized_BI_RE = solve_all_instances(\"randomized_plus_BI_drop_or_swap\", \"randomized_BI_drop_or_swap.csv\", alpha = 0.0, ls_time=9999.0)"
   ]
  },
  {
   "cell_type": "code",
   "execution_count": null,
   "id": "827c6086",
   "metadata": {},
   "outputs": [],
   "source": [
    "df_greedy_RE_FI = solve_all_instances(\"greedy_RE_plus_FI_drop_or_swap\", \"greedy_RE_FI_drop_or_swap.csv\", fi_time=9999.0)\n",
    "df_greedy_RE_BI = solve_all_instances(\"greedy_RE_plus_BI_drop_or_swap\", \"greedy_RE_BI_drop_or_swap.csv\", ls_time=9999.0)"
   ]
  },
  {
   "cell_type": "code",
   "execution_count": null,
   "id": "1ae4dcd1",
   "metadata": {},
   "outputs": [],
   "source": []
  },
  {
   "cell_type": "markdown",
   "id": "5b01ed26",
   "metadata": {},
   "source": [
    "# Pruning First"
   ]
  },
  {
   "cell_type": "code",
   "execution_count": null,
   "id": "3353afc4",
   "metadata": {},
   "outputs": [],
   "source": [
    "def greedy_RE_BI1X1(instance, ls_time=999.0):\n",
    "    sol = greedy_cost_efficiency(instance)\n",
    "    sol.prune_by_cost()\n",
    "    sol = best_improvement_1x1_loop(sol, max_time=ls_time)\n",
    "    return sol\n",
    "\n",
    "def greedy_plus_FI1x1(instance, fi_time=999.0):\n",
    "    sol = greedy_cost_efficiency(instance)\n",
    "    sol.prune_by_cost()\n",
    "    sol = first_improvement_1x1_loop(sol, max_time=fi_time)\n",
    "    return sol\n",
    "\n",
    "df_greedy_RE_BI1X1 = solve_all_instances(\"greedy_RE_BI1X1\", \"greedy_RE_BI1X1_results.csv\", ls_time=9999.0)\n",
    "df_greedy_RE_FI1X1 = solve_all_instances(\"greedy_RE_FI1X1\", \"greedy_RE_FI1X1_results.csv\", fi_time=9999.0)"
   ]
  },
  {
   "cell_type": "markdown",
   "id": "caac1d22",
   "metadata": {},
   "source": [
    "## Comparing all Local Searches"
   ]
  },
  {
   "cell_type": "code",
   "execution_count": 13,
   "id": "632306e8",
   "metadata": {},
   "outputs": [
    {
     "name": "stdout",
     "output_type": "stream",
     "text": [
      "The autoreload extension is already loaded. To reload it, use:\n",
      "  %reload_ext autoreload\n",
      "Solver (parallel): greedy_plus_BI_drop_or_swap using 4 workers\n"
     ]
    },
    {
     "ename": "KeyboardInterrupt",
     "evalue": "",
     "output_type": "error",
     "traceback": [
      "\u001b[31m---------------------------------------------------------------------------\u001b[39m",
      "\u001b[31mKeyboardInterrupt\u001b[39m                         Traceback (most recent call last)",
      "\u001b[36mFile \u001b[39m\u001b[32m~/Documents/Heuristics/SetCoveringProblem/SCP_solve_all.py:46\u001b[39m, in \u001b[36msolve_all_instances_parallel\u001b[39m\u001b[34m(algorithm_name, csv_filename, folder, num_instances, num_workers, *args, **kwargs)\u001b[39m\n\u001b[32m      0\u001b[39m <Error retrieving source code with stack_data see ipython/ipython#13598>\n",
      "\u001b[36mFile \u001b[39m\u001b[32m/usr/lib/python3.12/concurrent/futures/_base.py:243\u001b[39m, in \u001b[36mas_completed\u001b[39m\u001b[34m(fs, timeout)\u001b[39m\n\u001b[32m    239\u001b[39m         \u001b[38;5;28;01mraise\u001b[39;00m \u001b[38;5;167;01mTimeoutError\u001b[39;00m(\n\u001b[32m    240\u001b[39m                 \u001b[33m'\u001b[39m\u001b[38;5;132;01m%d\u001b[39;00m\u001b[33m (of \u001b[39m\u001b[38;5;132;01m%d\u001b[39;00m\u001b[33m) futures unfinished\u001b[39m\u001b[33m'\u001b[39m % (\n\u001b[32m    241\u001b[39m                 \u001b[38;5;28mlen\u001b[39m(pending), total_futures))\n\u001b[32m--> \u001b[39m\u001b[32m243\u001b[39m \u001b[43mwaiter\u001b[49m\u001b[43m.\u001b[49m\u001b[43mevent\u001b[49m\u001b[43m.\u001b[49m\u001b[43mwait\u001b[49m\u001b[43m(\u001b[49m\u001b[43mwait_timeout\u001b[49m\u001b[43m)\u001b[49m\n\u001b[32m    245\u001b[39m \u001b[38;5;28;01mwith\u001b[39;00m waiter.lock:\n",
      "\u001b[36mFile \u001b[39m\u001b[32m/usr/lib/python3.12/threading.py:655\u001b[39m, in \u001b[36mEvent.wait\u001b[39m\u001b[34m(self, timeout)\u001b[39m\n\u001b[32m    654\u001b[39m \u001b[38;5;28;01mif\u001b[39;00m \u001b[38;5;129;01mnot\u001b[39;00m signaled:\n\u001b[32m--> \u001b[39m\u001b[32m655\u001b[39m     signaled = \u001b[38;5;28;43mself\u001b[39;49m\u001b[43m.\u001b[49m\u001b[43m_cond\u001b[49m\u001b[43m.\u001b[49m\u001b[43mwait\u001b[49m\u001b[43m(\u001b[49m\u001b[43mtimeout\u001b[49m\u001b[43m)\u001b[49m\n\u001b[32m    656\u001b[39m \u001b[38;5;28;01mreturn\u001b[39;00m signaled\n",
      "\u001b[36mFile \u001b[39m\u001b[32m/usr/lib/python3.12/threading.py:355\u001b[39m, in \u001b[36mCondition.wait\u001b[39m\u001b[34m(self, timeout)\u001b[39m\n\u001b[32m    354\u001b[39m \u001b[38;5;28;01mif\u001b[39;00m timeout \u001b[38;5;129;01mis\u001b[39;00m \u001b[38;5;28;01mNone\u001b[39;00m:\n\u001b[32m--> \u001b[39m\u001b[32m355\u001b[39m     \u001b[43mwaiter\u001b[49m\u001b[43m.\u001b[49m\u001b[43macquire\u001b[49m\u001b[43m(\u001b[49m\u001b[43m)\u001b[49m\n\u001b[32m    356\u001b[39m     gotit = \u001b[38;5;28;01mTrue\u001b[39;00m\n",
      "\u001b[31mKeyboardInterrupt\u001b[39m: ",
      "\nDuring handling of the above exception, another exception occurred:\n",
      "\u001b[31mKeyboardInterrupt\u001b[39m                         Traceback (most recent call last)",
      "\u001b[36mCell\u001b[39m\u001b[36m \u001b[39m\u001b[32mIn[13]\u001b[39m\u001b[32m, line 8\u001b[39m\n\u001b[32m      4\u001b[39m \u001b[38;5;28;01mfrom\u001b[39;00m\u001b[38;5;250m \u001b[39m\u001b[34;01mSCPLocalSearch\u001b[39;00m\u001b[38;5;250m \u001b[39m\u001b[38;5;28;01mimport\u001b[39;00m *\n\u001b[32m      7\u001b[39m \u001b[38;5;66;03m#! Swap or Drop\u001b[39;00m\n\u001b[32m----> \u001b[39m\u001b[32m8\u001b[39m df_greedy_BI_drop_or_swap = \u001b[43msolve_all_instances_parallel\u001b[49m\u001b[43m(\u001b[49m\n\u001b[32m      9\u001b[39m \u001b[43m    \u001b[49m\u001b[33;43m\"\u001b[39;49m\u001b[33;43mgreedy_plus_BI_drop_or_swap\u001b[39;49m\u001b[33;43m\"\u001b[39;49m\u001b[43m,\u001b[49m\u001b[43m \u001b[49m\n\u001b[32m     10\u001b[39m \u001b[43m    \u001b[49m\u001b[33;43m\"\u001b[39;49m\u001b[33;43mgreedy_RE_BI_drop_or_swap_results_parallel.csv\u001b[39;49m\u001b[33;43m\"\u001b[39;49m\u001b[43m,\u001b[49m\u001b[43m \u001b[49m\n\u001b[32m     11\u001b[39m \u001b[43m    \u001b[49m\u001b[43mls_time\u001b[49m\u001b[43m=\u001b[49m\u001b[32;43m9999.0\u001b[39;49m\n\u001b[32m     12\u001b[39m \u001b[43m    \u001b[49m\u001b[43m)\u001b[49m\n\u001b[32m     13\u001b[39m df_greedy_FI_drop_or_swap = solve_all_instances_parallel(\n\u001b[32m     14\u001b[39m     \u001b[33m\"\u001b[39m\u001b[33mgreedy_plus_FI_drop_or_swap\u001b[39m\u001b[33m\"\u001b[39m, \n\u001b[32m     15\u001b[39m     \u001b[33m\"\u001b[39m\u001b[33mgreedy_RE_FI_drop_or_swap_results_parallel.csv\u001b[39m\u001b[33m\"\u001b[39m, \n\u001b[32m     16\u001b[39m     fi_time=\u001b[32m9999.0\u001b[39m\n\u001b[32m     17\u001b[39m     )\n\u001b[32m     19\u001b[39m \u001b[38;5;66;03m#! RE then Swap or Drop\u001b[39;00m\n",
      "\u001b[36mFile \u001b[39m\u001b[32m~/Documents/Heuristics/SetCoveringProblem/SCP_solve_all.py:44\u001b[39m, in \u001b[36msolve_all_instances_parallel\u001b[39m\u001b[34m(algorithm_name, csv_filename, folder, num_instances, num_workers, *args, **kwargs)\u001b[39m\n\u001b[32m     42\u001b[39m \u001b[38;5;66;03m# --- Prepare output folder ---\u001b[39;00m\n\u001b[32m     43\u001b[39m results_dir = \u001b[33m\"\u001b[39m\u001b[33mresults\u001b[39m\u001b[33m\"\u001b[39m\n\u001b[32m---> \u001b[39m\u001b[32m44\u001b[39m os.makedirs(results_dir, exist_ok=\u001b[38;5;28;01mTrue\u001b[39;00m)\n\u001b[32m     45\u001b[39m csv_path = os.path.join(results_dir, csv_filename)\n\u001b[32m     47\u001b[39m \u001b[38;5;66;03m# --- Load instances ---\u001b[39;00m\n",
      "\u001b[36mFile \u001b[39m\u001b[32m/usr/lib/python3.12/concurrent/futures/_base.py:647\u001b[39m, in \u001b[36mExecutor.__exit__\u001b[39m\u001b[34m(self, exc_type, exc_val, exc_tb)\u001b[39m\n\u001b[32m    646\u001b[39m \u001b[38;5;28;01mdef\u001b[39;00m\u001b[38;5;250m \u001b[39m\u001b[34m__exit__\u001b[39m(\u001b[38;5;28mself\u001b[39m, exc_type, exc_val, exc_tb):\n\u001b[32m--> \u001b[39m\u001b[32m647\u001b[39m     \u001b[38;5;28;43mself\u001b[39;49m\u001b[43m.\u001b[49m\u001b[43mshutdown\u001b[49m\u001b[43m(\u001b[49m\u001b[43mwait\u001b[49m\u001b[43m=\u001b[49m\u001b[38;5;28;43;01mTrue\u001b[39;49;00m\u001b[43m)\u001b[49m\n\u001b[32m    648\u001b[39m     \u001b[38;5;28;01mreturn\u001b[39;00m \u001b[38;5;28;01mFalse\u001b[39;00m\n",
      "\u001b[36mFile \u001b[39m\u001b[32m/usr/lib/python3.12/concurrent/futures/process.py:873\u001b[39m, in \u001b[36mProcessPoolExecutor.shutdown\u001b[39m\u001b[34m(self, wait, cancel_futures)\u001b[39m\n\u001b[32m    870\u001b[39m         \u001b[38;5;28mself\u001b[39m._executor_manager_thread_wakeup.wakeup()\n\u001b[32m    872\u001b[39m \u001b[38;5;28;01mif\u001b[39;00m \u001b[38;5;28mself\u001b[39m._executor_manager_thread \u001b[38;5;129;01mis\u001b[39;00m \u001b[38;5;129;01mnot\u001b[39;00m \u001b[38;5;28;01mNone\u001b[39;00m \u001b[38;5;129;01mand\u001b[39;00m wait:\n\u001b[32m--> \u001b[39m\u001b[32m873\u001b[39m     \u001b[38;5;28;43mself\u001b[39;49m\u001b[43m.\u001b[49m\u001b[43m_executor_manager_thread\u001b[49m\u001b[43m.\u001b[49m\u001b[43mjoin\u001b[49m\u001b[43m(\u001b[49m\u001b[43m)\u001b[49m\n\u001b[32m    874\u001b[39m \u001b[38;5;66;03m# To reduce the risk of opening too many files, remove references to\u001b[39;00m\n\u001b[32m    875\u001b[39m \u001b[38;5;66;03m# objects that use file descriptors.\u001b[39;00m\n\u001b[32m    876\u001b[39m \u001b[38;5;28mself\u001b[39m._executor_manager_thread = \u001b[38;5;28;01mNone\u001b[39;00m\n",
      "\u001b[36mFile \u001b[39m\u001b[32m/usr/lib/python3.12/threading.py:1147\u001b[39m, in \u001b[36mThread.join\u001b[39m\u001b[34m(self, timeout)\u001b[39m\n\u001b[32m   1144\u001b[39m     \u001b[38;5;28;01mraise\u001b[39;00m \u001b[38;5;167;01mRuntimeError\u001b[39;00m(\u001b[33m\"\u001b[39m\u001b[33mcannot join current thread\u001b[39m\u001b[33m\"\u001b[39m)\n\u001b[32m   1146\u001b[39m \u001b[38;5;28;01mif\u001b[39;00m timeout \u001b[38;5;129;01mis\u001b[39;00m \u001b[38;5;28;01mNone\u001b[39;00m:\n\u001b[32m-> \u001b[39m\u001b[32m1147\u001b[39m     \u001b[38;5;28;43mself\u001b[39;49m\u001b[43m.\u001b[49m\u001b[43m_wait_for_tstate_lock\u001b[49m\u001b[43m(\u001b[49m\u001b[43m)\u001b[49m\n\u001b[32m   1148\u001b[39m \u001b[38;5;28;01melse\u001b[39;00m:\n\u001b[32m   1149\u001b[39m     \u001b[38;5;66;03m# the behavior of a negative timeout isn't documented, but\u001b[39;00m\n\u001b[32m   1150\u001b[39m     \u001b[38;5;66;03m# historically .join(timeout=x) for x<0 has acted as if timeout=0\u001b[39;00m\n\u001b[32m   1151\u001b[39m     \u001b[38;5;28mself\u001b[39m._wait_for_tstate_lock(timeout=\u001b[38;5;28mmax\u001b[39m(timeout, \u001b[32m0\u001b[39m))\n",
      "\u001b[36mFile \u001b[39m\u001b[32m/usr/lib/python3.12/threading.py:1167\u001b[39m, in \u001b[36mThread._wait_for_tstate_lock\u001b[39m\u001b[34m(self, block, timeout)\u001b[39m\n\u001b[32m   1164\u001b[39m     \u001b[38;5;28;01mreturn\u001b[39;00m\n\u001b[32m   1166\u001b[39m \u001b[38;5;28;01mtry\u001b[39;00m:\n\u001b[32m-> \u001b[39m\u001b[32m1167\u001b[39m     \u001b[38;5;28;01mif\u001b[39;00m \u001b[43mlock\u001b[49m\u001b[43m.\u001b[49m\u001b[43macquire\u001b[49m\u001b[43m(\u001b[49m\u001b[43mblock\u001b[49m\u001b[43m,\u001b[49m\u001b[43m \u001b[49m\u001b[43mtimeout\u001b[49m\u001b[43m)\u001b[49m:\n\u001b[32m   1168\u001b[39m         lock.release()\n\u001b[32m   1169\u001b[39m         \u001b[38;5;28mself\u001b[39m._stop()\n",
      "\u001b[31mKeyboardInterrupt\u001b[39m: "
     ]
    }
   ],
   "source": [
    "%load_ext autoreload\n",
    "%autoreload 2\n",
    "from SCP_solve_all import solve_all_instances_parallel\n",
    "from SCPLocalSearch import *\n",
    "\n",
    "\n",
    "#! Swap or Drop\n",
    "df_greedy_BI_drop_or_swap = solve_all_instances_parallel(\n",
    "    \"greedy_plus_BI_drop_or_swap\", \n",
    "    \"greedy_RE_BI_drop_or_swap_results_parallel.csv\", \n",
    "    ls_time=9999.0\n",
    "    )\n",
    "df_greedy_FI_drop_or_swap = solve_all_instances_parallel(\n",
    "    \"greedy_plus_FI_drop_or_swap\", \n",
    "    \"greedy_RE_FI_drop_or_swap_results_parallel.csv\", \n",
    "    fi_time=9999.0\n",
    "    )\n",
    "\n",
    "#! RE then Swap or Drop\n",
    "df_greedy_RE_BI_drop_or_swap = solve_all_instances_parallel(\n",
    "    \"greedy_RE_plus_BI_drop_or_swap\", \n",
    "    \"greedy_RE_BI_drop_or_swap_results_parallel.csv\", \n",
    "    ls_time=9999.0\n",
    "    )\n",
    "df_greedy_RE_FI_drop_or_swap = solve_all_instances_parallel(\n",
    "    \"greedy_RE_plus_FI_drop_or_swap\", \n",
    "    \"greedy_RE_FI_drop_or_swap_results_parallel.csv\", \n",
    "    fi_time=9999.0\n",
    "    )\n",
    "\n"
   ]
  },
  {
   "cell_type": "code",
   "execution_count": null,
   "id": "a6103c6b",
   "metadata": {},
   "outputs": [],
   "source": [
    "\n",
    "#! 1x1 then RE\n",
    "df_greedy_plus_BI1x1 = solve_all_instances_parallel(\n",
    "    \"greedy_plus_BI1x1\", \n",
    "    \"greedy_plus_BI1x1_results_parallel.csv\", \n",
    "    ls_time=9999.0\n",
    "    )\n",
    "df_greedy_plus_FI1x1_RE = solve_all_instances_parallel(\n",
    "    \"greedy_plus_FI1x1_RE\",\n",
    "    \"greedy_plus_FI1x1_RE_results_parallel.csv\",\n",
    "    fi_time=9999.0\n",
    "    )\n",
    "\n",
    "#! RE then 1x1\n",
    "df_greedy_RE_BI1X1 = solve_all_instances_parallel(\n",
    "    \"greedy_RE_BI1X1\", \n",
    "    \"greedy_RE_BI1X1_results_parallel.csv\", \n",
    "    ls_time=9999.0\n",
    "    )\n",
    "df_greedy_RE_FI1x1 = solve_all_instances_parallel(\n",
    "    \"greedy_RE_FI1x1\", \n",
    "    \"greedy_RE_FI1x1_results_parallel.csv\", \n",
    "    fi_time=9999.0\n",
    "    )"
   ]
  },
  {
   "cell_type": "markdown",
   "id": "6cac7c51",
   "metadata": {},
   "source": [
    "# GRASP : Greedy Randomized Adaptive Search Procedure"
   ]
  },
  {
   "cell_type": "markdown",
   "id": "1c865a2e",
   "metadata": {},
   "source": [
    "## Sequential Execution of GRASP"
   ]
  },
  {
   "cell_type": "code",
   "execution_count": null,
   "id": "4ec0ee58",
   "metadata": {},
   "outputs": [],
   "source": [
    "from SCPDefinitions import *\n",
    "from SCPConstructive import *\n",
    "from SCPLocalSearch import *\n",
    "from SCP_solve_all import *\n",
    "from SCP_GRASP import *"
   ]
  },
  {
   "cell_type": "code",
   "execution_count": 29,
   "id": "3ba70b82",
   "metadata": {},
   "outputs": [
    {
     "name": "stdout",
     "output_type": "stream",
     "text": [
      "\n",
      "🌀 Starting GRASP | alpha=0.05, max_iter=10, max_time=300.0s\n",
      "   Known optimum for scp42: 512.00\n",
      "\n",
      "  Iter   1: ✨ New best cost = 558.00 (deviation = +8.98%)\n",
      "  Iter   3: ✨ New best cost = 541.00 (deviation = +5.66%)\n",
      "  Iter  10: ✨ New best cost = 525.00 (deviation = +2.54%)\n",
      "✅ GRASP finished after 10 iterations (9.60s)\n",
      "   ➤ Best cost found: 525.00 (deviation = +2.54%)\n",
      "\n",
      "============================================================\n",
      "✈️  SCP Solution Summary\n",
      "  Selected airplanes: 67\n",
      "  Total cost: 525.00\n",
      "  Feasible: True\n",
      "  Uncovered attributes: 0\n",
      "Selected (sample): [0, 1, 2, 4, 5, 6, 7, 9, 10, 12]\n",
      "============================================================\n",
      "\n"
     ]
    }
   ],
   "source": [
    "\n",
    "\n",
    "small_instance = SCPInstance(0)\n",
    "large_instance = SCPInstance(33)  # adjust index as needed\n",
    "\n",
    "random.seed(42)\n",
    "small = grasp_sequential(small_instance, alpha=0.05, max_time=300.0, max_iter=10, verbose=True)\n",
    "#large = grasp_sequential(large_instance, alpha=0.05, max_time=300.0, max_iter=10, verbose=True)\n",
    "\n",
    "small.summary()\n",
    "#large.summary()\n"
   ]
  },
  {
   "cell_type": "markdown",
   "id": "0425ecef",
   "metadata": {},
   "source": [
    "## GRASP Parallel Execution"
   ]
  },
  {
   "cell_type": "code",
   "execution_count": null,
   "id": "dd22a718",
   "metadata": {},
   "outputs": [],
   "source": [
    "small_instance = SCPInstance(0)\n",
    "large_instance = SCPInstance(33)  # adjust index as needed\n",
    "\n",
    "small = grasp_parallel(small_instance, alpha=0.05, max_time=300.0, num_iter=10)\n",
    "large = grasp_parallel(large_instance, alpha=0.05, max_time=300.0, num_iter=10)\n",
    "\n",
    "small.summary()\n",
    "large.summary()\n"
   ]
  },
  {
   "cell_type": "markdown",
   "id": "957cd41a",
   "metadata": {},
   "source": [
    "# GRASP : Adapting Parameters\n",
    "## Constant RCL Size"
   ]
  },
  {
   "cell_type": "code",
   "execution_count": null,
   "id": "84466159",
   "metadata": {},
   "outputs": [],
   "source": [
    "\n",
    "#small_instance.summary()\n",
    "#large_instance.summary()    \n",
    "\n",
    "#grasp_parallel_fixed_RCL(large_instance, desired_RCL=20, max_time=600.0, num_iter=10, num_workers=6, seed=42)\n",
    "grasp_parallel_fixed_RCL(small_instance, desired_RCL=20, max_time=600.0, num_iter=100, num_workers=6, seed=42)"
   ]
  },
  {
   "cell_type": "code",
   "execution_count": null,
   "id": "72467d57",
   "metadata": {},
   "outputs": [],
   "source": [
    "solve_all_instances(\n",
    "    \"grasp_parallel_fixed_RCL\", \n",
    "    \"grasp_parallel_fixed_RCL.csv\", \n",
    "    num_instances=0, \n",
    "    desired_RCL=20, \n",
    "    max_time=600.0, \n",
    "    num_iter=100, \n",
    "    num_workers=6, \n",
    "    seed=42)\n",
    "\n",
    "\n",
    "solve_all_instances(\n",
    "    \"grasp_parallel\",\n",
    "    \"grasp_parallel_results.csv\",\n",
    "    num_instances=0,\n",
    "    alpha=0.05,\n",
    "    max_time=600.0,\n",
    "    num_iter=100,\n",
    "    num_workers=6,\n",
    "    seed=42)\n",
    "\n",
    "\n"
   ]
  },
  {
   "cell_type": "markdown",
   "id": "9aba95a5",
   "metadata": {},
   "source": [
    "## Comparing GRASP RCL fixed FI vs BI"
   ]
  },
  {
   "cell_type": "code",
   "execution_count": null,
   "id": "248d430f",
   "metadata": {},
   "outputs": [],
   "source": [
    "import importlib\n",
    "import SCP_GRASP\n",
    "importlib.reload(SCP_GRASP)\n",
    "from SCP_GRASP import *\n",
    "\n",
    "grasp_parallel_BI_fixed_RCL(large_instance, desired_RCL=20, max_time=600.0, num_iter=10, num_workers=6, seed=42)\n",
    "grasp_parallel_fixed_RCL(large_instance, desired_RCL=20, max_time=600.0, num_iter=10, num_workers=6, seed=42)"
   ]
  },
  {
   "cell_type": "code",
   "execution_count": null,
   "id": "4770f1fe",
   "metadata": {},
   "outputs": [],
   "source": [
    "import importlib\n",
    "import SCP_GRASP\n",
    "importlib.reload(SCP_GRASP)\n",
    "from SCP_GRASP import *\n",
    "import SCP_solve_all\n",
    "importlib.reload(SCP_solve_all)\n",
    "from SCP_solve_all import *\n",
    "\n",
    "\n",
    "solve_all_instances(\n",
    "    \"grasp_parallel_BI_fixed_RCL\", \n",
    "    \"grasp_parallel_BI_fixed_RCL.csv\", \n",
    "    num_instances=0, \n",
    "    desired_RCL=20, \n",
    "    max_time=600.0, \n",
    "    num_iter=100, \n",
    "    num_workers=6, \n",
    "    seed=42)\n",
    "\n",
    "\n",
    "solve_all_instances(\n",
    "    \"grasp_parallel_fixed_RCL\",\n",
    "    \"grasp_parallel_fixed_RCL.csv\",\n",
    "    num_instances=0,\n",
    "    alpha=0.05,\n",
    "    max_time=600.0,\n",
    "    num_iter=100,\n",
    "    num_workers=6,\n",
    "    seed=42)\n",
    "\n",
    "\n",
    "\n"
   ]
  },
  {
   "cell_type": "code",
   "execution_count": null,
   "id": "e16ae1a6",
   "metadata": {},
   "outputs": [],
   "source": [
    "solve_all_instances(\n",
    "    greedy_RE\n",
    "    , \"greedy_RE.csv\"\n",
    ")"
   ]
  },
  {
   "cell_type": "code",
   "execution_count": null,
   "id": "0c72c3a9",
   "metadata": {},
   "outputs": [],
   "source": [
    "import SCP_solve_all\n",
    "importlib.reload(SCP_solve_all)\n",
    "from SCP_solve_all import *\n",
    "\n",
    "solve_all_instances_parallel(\n",
    "    greedy_RE\n",
    "    , \"greedy_RE_parallel.csv\"\n",
    "    , num_workers=10\n",
    ")"
   ]
  },
  {
   "cell_type": "code",
   "execution_count": null,
   "id": "7f52bd7e",
   "metadata": {},
   "outputs": [],
   "source": [
    "import importlib\n",
    "import SCPConstructive\n",
    "importlib.reload(SCPConstructive)\n",
    "from SCPConstructive import *\n",
    "\n",
    "import importlib\n",
    "import SCPLocalSearch\n",
    "importlib.reload(SCPLocalSearch)\n",
    "from SCPLocalSearch import *\n",
    "\n",
    "importlib.reload(SCP_solve_all)\n",
    "from SCP_solve_all import *\n",
    "import SCP_GRASP\n",
    "importlib.reload(SCP_GRASP)\n",
    "\n",
    "from SCP_GRASP import *\n",
    "import SCP_solve_all\n",
    "importlib.reload(SCP_solve_all)\n",
    "from SCP_solve_all import *\n",
    "\n",
    "solve_all_instances(greedy_cost_square_over_cover, \"squared_RE_results_sequential.csv\")\n",
    "\n"
   ]
  },
  {
   "cell_type": "markdown",
   "id": "b3f1d341",
   "metadata": {},
   "source": [
    "# TABU Search"
   ]
  },
  {
   "cell_type": "code",
   "execution_count": 73,
   "id": "0f268b31",
   "metadata": {},
   "outputs": [
    {
     "name": "stdout",
     "output_type": "stream",
     "text": [
      "The autoreload extension is already loaded. To reload it, use:\n",
      "  %reload_ext autoreload\n",
      "\n",
      "▶️ Start Tabu Search (custom init) | initial=529.00 (dev=3.32%)\n",
      "\n",
      "[Iter  41] NEW BEST 527.00 (dev=2.93%) | Move=remove 20\n",
      "[Iter  45] NEW BEST 525.00 (dev=2.54%) | Move=remove 23\n",
      "[Iter 191] NEW BEST 523.00 (dev=2.15%) | Move=remove 23\n",
      "[Iter 1077] NEW BEST 522.00 (dev=1.95%) | Move=remove 12\n",
      "[Iter 1079] NEW BEST 521.00 (dev=1.76%) | Move=remove 20\n",
      "[Iter 1080] NEW BEST 520.00 (dev=1.56%) | Move=remove 6\n",
      "[Iter 1081] NEW BEST 518.00 (dev=1.17%) | Move=remove 13\n",
      "[Iter 1082] NEW BEST 517.00 (dev=0.98%) | Move=swap 35→26\n",
      "\n",
      "✅ Finished after 2082 iters | Best=517.00 (dev=0.98%)\n",
      "\n",
      "\n",
      "▶️ Start Tabu Search (custom init) | initial=224.00 (dev=2.28%)\n",
      "\n",
      "[Iter  70] NEW BEST 223.00 (dev=1.83%) | Move=remove 27\n",
      "[Iter 459] NEW BEST 222.00 (dev=1.37%) | Move=remove 59\n",
      "[Iter 608] NEW BEST 221.00 (dev=0.91%) | Move=remove 30\n",
      "\n",
      "✅ Finished after 1608 iters | Best=221.00 (dev=0.91%)\n",
      "\n"
     ]
    }
   ],
   "source": [
    "%load_ext autoreload\n",
    "%autoreload 2\n",
    "from SCP_TABU import *\n",
    "from SCPConstructive import *\n",
    "\n",
    "small_instance = SCPInstance(0)\n",
    "large_instance = SCPInstance(33) \n",
    "\n",
    "tabu_small = tabu_search(small_instance, max_time=300.0, tabu_tenure=10, max_no_improve=1000)\n",
    "tabu_large = tabu_search(large_instance, max_time=300.0, tabu_tenure=10, max_no_improve=1000)"
   ]
  },
  {
   "cell_type": "code",
   "execution_count": null,
   "id": "581f5dc7",
   "metadata": {},
   "outputs": [
    {
     "name": "stdout",
     "output_type": "stream",
     "text": [
      "Warning: Too close to max_no_improve limit! NI=1907\n",
      "Warning: Too close to max_no_improve limit! NI=1921\n",
      "Warning: Too close to max_no_improve limit! NI=1811\n",
      "Warning: Too close to max_no_improve limit! NI=1859\n"
     ]
    }
   ],
   "source": [
    "%load_ext autoreload\n",
    "%autoreload 2\n",
    "from SCP_TABU import *\n",
    "from SCPConstructive import *\n",
    "from SCP_solve_all import *\n",
    "\n",
    "df_tabu = solve_all_instances_parallel(\n",
    "    \"tabu_search\", \n",
    "    \"tabu_search_ten=10.csv\", \n",
    "    max_time=600.0, \n",
    "    tabu_tenure=10, \n",
    "    max_no_improve=2000, \n",
    "    num_workers=6,\n",
    "    verbose = False\n",
    "    )\n",
    "\n",
    "df_tabu = solve_all_instances_parallel(\n",
    "    \"tabu_search\", \n",
    "    \"tabu_search_ten=20.csv\", \n",
    "    max_time=600.0, \n",
    "    tabu_tenure=20, \n",
    "    max_no_improve=2000, \n",
    "    num_workers=6,\n",
    "    verbose = False\n",
    "    )\n",
    "\n"
   ]
  },
  {
   "cell_type": "code",
   "execution_count": 58,
   "id": "82bf5d90",
   "metadata": {},
   "outputs": [
    {
     "name": "stdout",
     "output_type": "stream",
     "text": [
      "The autoreload extension is already loaded. To reload it, use:\n",
      "  %reload_ext autoreload\n",
      "Solver (parallel): tabu_search using 6 workers\n",
      "Completed 42/42\n",
      "\n",
      "==== Parallel Summary ====\n",
      "Solver: tabu_search\n",
      "Average deviation from optimum : +2.70%\n",
      "Minimum deviation              : +0.39%\n",
      "Maximum deviation              : +8.33%\n",
      "Optimal solutions found        : 0/42\n",
      "Time [fastest, slowest]        : 31.65s , 371.31s\n",
      "Average time per instance      : 127.26s\n",
      "Total elapsed time             : 971.86s using 6 workers\n",
      "============================\n"
     ]
    }
   ],
   "source": [
    "%load_ext autoreload\n",
    "%autoreload 2\n",
    "from SCP_TABU import *\n",
    "from SCPConstructive import *\n",
    "from SCP_solve_all import *\n",
    "\n",
    "df_tabu = solve_all_instances_parallel(\n",
    "    \"tabu_search\", \n",
    "    \"tabu_search_ten=10_NI=5000.csv\", \n",
    "    max_time=600.0, \n",
    "    tabu_tenure=10, \n",
    "    max_no_improve=5000, \n",
    "    num_workers=6,\n",
    "    verbose = False\n",
    "    )"
   ]
  },
  {
   "cell_type": "code",
   "execution_count": 80,
   "id": "b168fbff",
   "metadata": {},
   "outputs": [
    {
     "name": "stdout",
     "output_type": "stream",
     "text": [
      "The autoreload extension is already loaded. To reload it, use:\n",
      "  %reload_ext autoreload\n",
      "Solver (parallel): tabu_search using 14 workers\n"
     ]
    },
    {
     "name": "stdout",
     "output_type": "stream",
     "text": [
      "Completed 42/42\n",
      "\n",
      "==== Parallel Summary ====\n",
      "Solver: tabu_search\n",
      "Average deviation from optimum : +3.30%\n",
      "Minimum deviation              : +0.39%\n",
      "Maximum deviation              : +9.72%\n",
      "Optimal solutions found        : 0/42\n",
      "Time [fastest, slowest]        : 10.35s , 120.97s\n",
      "Average time per instance      : 42.46s\n",
      "Total elapsed time             : 206.65s using 14 workers\n",
      "============================\n"
     ]
    }
   ],
   "source": [
    "%load_ext autoreload\n",
    "%autoreload 2\n",
    "from SCP_TABU import *\n",
    "from SCPConstructive import *\n",
    "from SCP_solve_all import *\n",
    "\n",
    "df_tabu = solve_all_instances_parallel(\n",
    "    \"tabu_search\", \n",
    "    \"tabu_search_ten=10.csv\", \n",
    "    max_time=600.0, \n",
    "    tabu_tenure=10, \n",
    "    max_no_improve=1000, \n",
    "    num_workers=14,\n",
    "    verbose = False\n",
    "    )"
   ]
  },
  {
   "cell_type": "markdown",
   "id": "43830583",
   "metadata": {},
   "source": [
    "## TABU: Improved intensificaton\n",
    "### WHen new best solution is found, perform BI local search"
   ]
  },
  {
   "cell_type": "code",
   "execution_count": 81,
   "id": "af2fddae",
   "metadata": {},
   "outputs": [
    {
     "name": "stdout",
     "output_type": "stream",
     "text": [
      "The autoreload extension is already loaded. To reload it, use:\n",
      "  %reload_ext autoreload\n",
      "Solver (parallel): tabu_search using 14 workers\n"
     ]
    },
    {
     "name": "stdout",
     "output_type": "stream",
     "text": [
      "Completed 42/42\n",
      "\n",
      "==== Parallel Summary ====\n",
      "Solver: tabu_search\n",
      "Average deviation from optimum : +3.14%\n",
      "Minimum deviation              : +0.39%\n",
      "Maximum deviation              : +9.72%\n",
      "Optimal solutions found        : 0/42\n",
      "Time [fastest, slowest]        : 8.15s , 114.71s\n",
      "Average time per instance      : 38.80s\n",
      "Total elapsed time             : 179.65s using 14 workers\n",
      "============================\n"
     ]
    }
   ],
   "source": [
    "%load_ext autoreload\n",
    "%autoreload 2\n",
    "from SCP_TABU import *\n",
    "from SCPConstructive import *\n",
    "from SCP_solve_all import *\n",
    "\n",
    "df_tabu = solve_all_instances_parallel(\n",
    "    \"tabu_search\", \n",
    "    \"tabu_search_ten=10_w_BI.csv\", \n",
    "    max_time=600.0, \n",
    "    tabu_tenure=10, \n",
    "    max_no_improve=1000, \n",
    "    num_workers=14,\n",
    "    verbose = False,\n",
    "    )"
   ]
  },
  {
   "cell_type": "markdown",
   "id": "82bae875",
   "metadata": {},
   "source": [
    "## TABU: Improved diversification\n",
    "### After 100 no improve, let's do a shake"
   ]
  },
  {
   "cell_type": "code",
   "execution_count": null,
   "id": "d2b58687",
   "metadata": {},
   "outputs": [
    {
     "name": "stdout",
     "output_type": "stream",
     "text": [
      "The autoreload extension is already loaded. To reload it, use:\n",
      "  %reload_ext autoreload\n",
      "\n",
      "▶️ Start Tabu Search (custom init) | initial=529.00 (dev=3.32%)\n",
      "\n",
      "⚡ Shake triggered at iter 100 (no_improve=100)\n",
      "🔀 Shake: removed 6 sets → repairing...\n",
      "[Iter 137] NEW BEST 527.00 (dev=2.93%) | Move=remove 20\n",
      "⚡ Shake triggered at iter 237 (no_improve=100)\n",
      "🔀 Shake: removed 6 sets → repairing...\n",
      "⚡ Shake triggered at iter 337 (no_improve=200)\n",
      "🔀 Shake: removed 6 sets → repairing...\n",
      "⚡ Shake triggered at iter 437 (no_improve=300)\n",
      "🔀 Shake: removed 6 sets → repairing...\n",
      "⚡ Shake triggered at iter 537 (no_improve=400)\n",
      "🔀 Shake: removed 6 sets → repairing...\n",
      "⚡ Shake triggered at iter 637 (no_improve=500)\n",
      "🔀 Shake: removed 6 sets → repairing...\n",
      "⚡ Shake triggered at iter 737 (no_improve=600)\n",
      "🔀 Shake: removed 6 sets → repairing...\n",
      "⚡ Shake triggered at iter 837 (no_improve=700)\n",
      "🔀 Shake: removed 6 sets → repairing...\n",
      "⚡ Shake triggered at iter 937 (no_improve=800)\n",
      "🔀 Shake: removed 6 sets → repairing...\n",
      "⚡ Shake triggered at iter 1037 (no_improve=900)\n",
      "🔀 Shake: removed 6 sets → repairing...\n",
      "⚡ Shake triggered at iter 1137 (no_improve=1000)\n",
      "🔀 Shake: removed 6 sets → repairing...\n",
      "\n",
      "✅ Finished after 1137 iters | Best=525.00 (dev=2.54%)\n",
      "\n"
     ]
    }
   ],
   "source": [
    "# import sys\n",
    "# if \"SCP_TABU\" in sys.modules:\n",
    "#     del sys.modules[\"SCP_TABU\"]\n",
    "\n",
    "%reset -f\n",
    "%load_ext autoreload\n",
    "%autoreload 2\n",
    "from SCPConstructive import *\n",
    "from SCP_TABU import *\n",
    "from SCP_solve_all import *\n",
    "\n",
    "\n",
    "# print(\"DEBUG:\", \"_shake_solution\" in dir(SCP_TABU))\n",
    "# print(\"Defined functions in SCP_TABU:\", [n for n in dir(SCP_TABU) if \"shake\" in n])\n",
    "\n",
    "\n",
    "small_instance = SCPInstance(0)\n",
    "tabu_small = tabu_search(small_instance,\n",
    "                            max_time=300.0, \n",
    "                            tabu_tenure=10, \n",
    "                            max_no_improve=5000,\n",
    "                            verbose=True,\n",
    "                            shake_NI_max=100,\n",
    "                            shake_intensity=0.1\n",
    "                            ) \n",
    "                         "
   ]
  },
  {
   "cell_type": "markdown",
   "id": "7177d28a",
   "metadata": {},
   "source": [
    "### Trying out diferent shake intensities and frequency\n",
    "\n",
    "\n",
    "200 (0.05 0.1 0.2) -> 0.2\n",
    "\n",
    "(150 200 300) 0.2 -> \n"
   ]
  },
  {
   "cell_type": "code",
   "execution_count": 105,
   "id": "ce3c5d3d",
   "metadata": {},
   "outputs": [
    {
     "name": "stdout",
     "output_type": "stream",
     "text": [
      "The autoreload extension is already loaded. To reload it, use:\n",
      "  %reload_ext autoreload\n",
      "Solver (parallel): tabu_search using 14 workers\n",
      "Completed 42/42\n",
      "\n",
      "==== Parallel Summary ====\n",
      "Solver: tabu_search\n",
      "Average deviation from optimum : +3.19%\n",
      "Minimum deviation              : +0.47%\n",
      "Maximum deviation              : +9.72%\n",
      "Optimal solutions found        : 0/42\n",
      "Time [fastest, slowest]        : 22.36s , 227.29s\n",
      "Average time per instance      : 77.02s\n",
      "Total elapsed time             : 382.74s using 14 workers\n",
      "============================\n",
      "Solver (parallel): tabu_search using 14 workers\n",
      "Completed 42/42\n",
      "\n",
      "==== Parallel Summary ====\n",
      "Solver: tabu_search\n",
      "Average deviation from optimum : +2.95%\n",
      "Minimum deviation              : +0.47%\n",
      "Maximum deviation              : +9.72%\n",
      "Optimal solutions found        : 0/42\n",
      "Time [fastest, slowest]        : 18.46s , 235.56s\n",
      "Average time per instance      : 79.25s\n",
      "Total elapsed time             : 390.50s using 14 workers\n",
      "============================\n",
      "Solver (parallel): tabu_search using 14 workers\n",
      "Completed 42/42\n",
      "\n",
      "==== Parallel Summary ====\n",
      "Solver: tabu_search\n",
      "Average deviation from optimum : +2.89%\n",
      "Minimum deviation              : +0.00%\n",
      "Maximum deviation              : +9.72%\n",
      "Optimal solutions found        : 1/42\n",
      "Time [fastest, slowest]        : 14.34s , 264.44s\n",
      "Average time per instance      : 73.56s\n",
      "Total elapsed time             : 361.02s using 14 workers\n",
      "============================\n"
     ]
    }
   ],
   "source": [
    "%reset -f\n",
    "%load_ext autoreload\n",
    "%autoreload 2\n",
    "\n",
    "from SCP_TABU import *\n",
    "from SCPConstructive import *\n",
    "from SCP_solve_all import *\n",
    "\n",
    "df_tabu = solve_all_instances_parallel(\n",
    "    \"tabu_search\", \n",
    "    \"tabu_search_ten=10_shake=5.csv\", \n",
    "    max_time=600.0, \n",
    "    tabu_tenure=10, \n",
    "    max_no_improve=2000, \n",
    "    num_workers=14,\n",
    "    shake_NI_max=200,\n",
    "    shake_intensity=0.05,\n",
    "    verbose = False,\n",
    "    )\n",
    "\n",
    "df_tabu = solve_all_instances_parallel(\n",
    "    \"tabu_search\", \n",
    "    \"tabu_search_ten=10_w_BI_shake=10.csv\", \n",
    "    max_time=600.0, \n",
    "    tabu_tenure=10, \n",
    "    max_no_improve=2000, \n",
    "    num_workers=14,\n",
    "    shake_NI_max=200,\n",
    "    shake_intensity=0.1,\n",
    "    verbose = False,\n",
    "    )\n",
    "\n",
    "df_tabu = solve_all_instances_parallel(\n",
    "    \"tabu_search\", \n",
    "    \"tabu_search_ten=10_w_BI_shake=20.csv\", \n",
    "    max_time=600.0, \n",
    "    tabu_tenure=10, \n",
    "    max_no_improve=2000, \n",
    "    num_workers=14,\n",
    "    shake_NI_max=200,\n",
    "    shake_intensity=0.2,\n",
    "    verbose = False,\n",
    "    )\n"
   ]
  },
  {
   "cell_type": "code",
   "execution_count": 108,
   "id": "939f51c6",
   "metadata": {},
   "outputs": [
    {
     "name": "stdout",
     "output_type": "stream",
     "text": [
      "The autoreload extension is already loaded. To reload it, use:\n",
      "  %reload_ext autoreload\n",
      "Solver (parallel): tabu_search using 14 workers\n",
      "Completed 42/42\n",
      "\n",
      "==== Parallel Summary ====\n",
      "Solver: tabu_search\n",
      "Average deviation from optimum : +2.71%\n",
      "Minimum deviation              : +0.00%\n",
      "Maximum deviation              : +6.94%\n",
      "Optimal solutions found        : 1/42\n",
      "Time [fastest, slowest]        : 25.27s , 266.60s\n",
      "Average time per instance      : 94.75s\n",
      "Total elapsed time             : 452.59s using 14 workers\n",
      "============================\n",
      "Solver (parallel): tabu_search using 14 workers\n",
      "Completed 42/42\n",
      "\n",
      "==== Parallel Summary ====\n",
      "Solver: tabu_search\n",
      "Average deviation from optimum : +2.72%\n",
      "Minimum deviation              : +0.00%\n",
      "Maximum deviation              : +9.72%\n",
      "Optimal solutions found        : 2/42\n",
      "Time [fastest, slowest]        : 23.08s , 404.86s\n",
      "Average time per instance      : 103.82s\n",
      "Total elapsed time             : 545.57s using 14 workers\n",
      "============================\n"
     ]
    }
   ],
   "source": [
    "%reset -f\n",
    "%load_ext autoreload\n",
    "%autoreload 2\n",
    "\n",
    "from SCP_TABU import *\n",
    "from SCPConstructive import *\n",
    "from SCP_solve_all import *\n",
    "\n",
    "df_tabu = solve_all_instances_parallel(\n",
    "    \"tabu_search\", \n",
    "    \"ignore=10_shake=5.csv\", \n",
    "    max_time=600.0, \n",
    "    tabu_tenure=10, \n",
    "    max_no_improve=2000, \n",
    "    num_workers=14,\n",
    "    shake_NI_max=50,\n",
    "    shake_intensity=0.2,\n",
    "    verbose = False,\n",
    "    )\n",
    "\n",
    "\n",
    "df_tabu = solve_all_instances_parallel(\n",
    "    \"tabu_search\", \n",
    "    \"ignore=10_w_BI_shake=20.csv\", \n",
    "    max_time=600.0, \n",
    "    tabu_tenure=10, \n",
    "    max_no_improve=2000, \n",
    "    num_workers=14,\n",
    "    shake_NI_max=100,\n",
    "    shake_intensity=0.2,\n",
    "    verbose = False,\n",
    "    )\n"
   ]
  },
  {
   "cell_type": "code",
   "execution_count": 109,
   "id": "77a8e831",
   "metadata": {},
   "outputs": [
    {
     "name": "stdout",
     "output_type": "stream",
     "text": [
      "Solver (parallel): tabu_search using 14 workers\n",
      "Completed 42/42\n",
      "\n",
      "==== Parallel Summary ====\n",
      "Solver: tabu_search\n",
      "Average deviation from optimum : +4.78%\n",
      "Minimum deviation              : +0.47%\n",
      "Maximum deviation              : +11.67%\n",
      "Optimal solutions found        : 0/42\n",
      "Time [fastest, slowest]        : 1.13s , 6.67s\n",
      "Average time per instance      : 2.01s\n",
      "Total elapsed time             : 8.73s using 14 workers\n",
      "============================\n"
     ]
    }
   ],
   "source": [
    "df_tabu = solve_all_instances_parallel(\n",
    "    \"tabu_search\", \n",
    "    \"ignore=10_w_BI_shake=20.csv\", \n",
    "    max_time=1.0, \n",
    "    tabu_tenure=10, \n",
    "    max_no_improve=20029123100, \n",
    "    num_workers=14,\n",
    "    shake_NI_max=100,\n",
    "    shake_intensity=0.2,\n",
    "    verbose = False,\n",
    "    )"
   ]
  },
  {
   "cell_type": "markdown",
   "id": "88414b74",
   "metadata": {},
   "source": [
    "### Ablation study this over several parameters"
   ]
  },
  {
   "cell_type": "code",
   "execution_count": 118,
   "id": "674cd9e3",
   "metadata": {},
   "outputs": [
    {
     "name": "stdout",
     "output_type": "stream",
     "text": [
      "Running 1 configurations\n",
      "\n",
      "▶️ Testing ten=10_NI=500_shake=0.3\n",
      "Solver (parallel): tabu_search using 14 workers\n"
     ]
    },
    {
     "name": "stdout",
     "output_type": "stream",
     "text": [
      "Completed 42/42\n",
      "\n",
      "==== Parallel Summary ====\n",
      "Solver: tabu_search\n",
      "Average deviation from optimum : +2.33%\n",
      "Minimum deviation              : +0.00%\n",
      "Maximum deviation              : +9.72%\n",
      "Optimal solutions found        : 1/42\n",
      "Time [fastest, slowest]        : 200.12s , 202.73s\n",
      "Average time per instance      : 200.84s\n",
      "Total elapsed time             : 603.85s using 14 workers\n",
      "============================\n"
     ]
    }
   ],
   "source": [
    "import itertools, time\n",
    "from SCP_TABU import *\n",
    "from SCPConstructive import *\n",
    "from SCP_solve_all import *\n",
    "\n",
    "# ---- short global test (~8 min total) ----\n",
    "max_time_minutes = 10.0        \n",
    "num_workers = 14            # moderate parallelism\n",
    "\n",
    "# small test subset (3 × 3)\n",
    "param_grid = list(itertools.product(\n",
    "    [10],                # tabu_tenure\n",
    "    [500],         # shake_NI_max\n",
    "    [0.3]        # shake_intensity\n",
    "))\n",
    "\n",
    "print(f\"Running {len(param_grid)} configurations\")\n",
    "\n",
    "for tabu_tenure, shake_NI_max, shake_intensity in param_grid:\n",
    "    tag = f\"ten={tabu_tenure}_NI={shake_NI_max}_shake={shake_intensity}\"\n",
    "    csv_name = f\"quick_{tag}.csv\"\n",
    "\n",
    "    print(f\"\\n▶️ Testing {tag}\")\n",
    "    df = solve_all_instances_parallel(\n",
    "        \"tabu_search\",\n",
    "        csv_name,\n",
    "        max_time=max_time_minutes*60*14/42/len(param_grid),  # adjust time per config,         \n",
    "        tabu_tenure=tabu_tenure,\n",
    "        max_no_improve=100000000,\n",
    "        num_workers=num_workers,\n",
    "        shake_NI_max=shake_NI_max,\n",
    "        shake_intensity=shake_intensity,\n",
    "        verbose=False,\n",
    "    )\n"
   ]
  }
 ],
 "metadata": {
  "kernelspec": {
   "display_name": ".venv",
   "language": "python",
   "name": "python3"
  },
  "language_info": {
   "codemirror_mode": {
    "name": "ipython",
    "version": 3
   },
   "file_extension": ".py",
   "mimetype": "text/x-python",
   "name": "python",
   "nbconvert_exporter": "python",
   "pygments_lexer": "ipython3",
   "version": "3.12.3"
  }
 },
 "nbformat": 4,
 "nbformat_minor": 5
}
